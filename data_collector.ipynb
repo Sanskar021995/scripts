{
 "cells": [
  {
   "cell_type": "code",
   "execution_count": 19,
   "metadata": {},
   "outputs": [
    {
     "name": "stdout",
     "output_type": "stream",
     "text": [
      "['eca6093aa64d43fbbe3bb04c064bd67d_cropped.png']\n"
     ]
    }
   ],
   "source": [
    "import os\n",
    "\n",
    "all_paths = []\n",
    "\n",
    "\n",
    "with open('/home/ubuntu/OH/scripts/white_small_medium.txt', 'r') as file:\n",
    "    # Read all the lines and store them in a list\n",
    "    lines = file.readlines()\n",
    "\n",
    "# Print the lines\n",
    "for line in lines:\n",
    "   all_paths.append(line.strip())\n",
    "   \n",
    "   \n",
    "print(all_paths)"
   ]
  },
  {
   "cell_type": "code",
   "execution_count": 20,
   "metadata": {},
   "outputs": [],
   "source": [
    "import shutil\n",
    "\n",
    "def copy_file_to_folder(source_file, destination_folder):\n",
    "    try:\n",
    "        # Copy the file to the destination folder\n",
    "        shutil.copy(source_file, destination_folder)\n",
    "        print(f\"File '{source_file}' copied to '{destination_folder}' successfully.\")\n",
    "    except Exception as e:\n",
    "        print(f\"An error occurred: {e}\")\n"
   ]
  },
  {
   "cell_type": "code",
   "execution_count": 21,
   "metadata": {},
   "outputs": [
    {
     "name": "stdout",
     "output_type": "stream",
     "text": [
      "File '/home/ubuntu/OH/scripts/Samsung/eca6093aa64d43fbbe3bb04c064bd67d_cropped.png' copied to '/home/ubuntu/OH/temp_stuff/Machine2_batch2/white_small_medium' successfully.\n"
     ]
    }
   ],
   "source": [
    "copy_folder =\"/home/ubuntu/OH/temp_stuff/Machine2_batch2/white_small_medium\"\n",
    "all_files = []\n",
    "for root, dirs, files in os.walk(\"/home/ubuntu/OH/scripts/Samsung\"):\n",
    "    file_paths = [os.path.join(root, file) for file in files]\n",
    "    all_files.extend(file_paths)\n",
    "    \n",
    "\n",
    "\n",
    "for initial_file in all_files:\n",
    "    if initial_file.split(\"/\")[-1] in all_paths:\n",
    "        copy_file_to_folder(initial_file, copy_folder)"
   ]
  }
 ],
 "metadata": {
  "kernelspec": {
   "display_name": "Python 3",
   "language": "python",
   "name": "python3"
  },
  "language_info": {
   "codemirror_mode": {
    "name": "ipython",
    "version": 3
   },
   "file_extension": ".py",
   "mimetype": "text/x-python",
   "name": "python",
   "nbconvert_exporter": "python",
   "pygments_lexer": "ipython3",
   "version": "3.8.10"
  }
 },
 "nbformat": 4,
 "nbformat_minor": 2
}
