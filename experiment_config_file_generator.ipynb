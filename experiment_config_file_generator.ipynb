{
 "cells": [
  {
   "cell_type": "code",
   "execution_count": 69,
   "metadata": {},
   "outputs": [],
   "source": [
    "model_architecture =\"efficientnet-b6\"\n",
    "data_ablation = \"100\"\n",
    "num_classes = 7\n",
    "image_size =\"224-288\"\n",
    "augmentation_list = \"set1\"\n",
    "loss_function = \"mce\"\n",
    "custom_pretrained_weights_name = \"no\"\n",
    "backbone = \"efficientnet-b6\"\n",
    "img_size = [224,288]\n",
    "input_channel = 1\n",
    "\n",
    "vit_pretrained_flag = True\n",
    "\n",
    "davit_pretrained_weights_path = \"some_path\"\n",
    "\n",
    "model_class = \"OriginalClassificationModel\"\n",
    "\n",
    "loss_function_class = \"DynamicallyWeightedBalanceLoss\"\n"
   ]
  },
  {
   "cell_type": "code",
   "execution_count": 70,
   "metadata": {},
   "outputs": [],
   "source": [
    "experiment_name = f'{model_architecture}_{data_ablation}_{str(num_classes)}-class_{image_size}_{augmentation_list}-aug_{loss_function}-loss_{custom_pretrained_weights_name}-weights'"
   ]
  },
  {
   "cell_type": "code",
   "execution_count": 71,
   "metadata": {},
   "outputs": [
    {
     "name": "stdout",
     "output_type": "stream",
     "text": [
      "efficientnet-b6_100_7-class_224-288_set1-aug_mce-loss_no-weights\n"
     ]
    }
   ],
   "source": [
    "print(experiment_name)"
   ]
  },
  {
   "cell_type": "code",
   "execution_count": 72,
   "metadata": {},
   "outputs": [],
   "source": [
    "import json\n",
    " \n",
    "# Opening JSON file\n",
    "f = open('reference_config.json')\n",
    " \n",
    "# returns JSON object as \n",
    "# a dictionary\n",
    "config_object  = json.load(f)\n"
   ]
  },
  {
   "cell_type": "code",
   "execution_count": 73,
   "metadata": {},
   "outputs": [],
   "source": [
    "config_object['information']['project'] = 'diagnostic-view-classifier'\n",
    "config_object['information']['exp_name'] = experiment_name\n",
    "config_object['model_class'] = model_class\n",
    "if model_class == \"OriginalClassificationModel\":\n",
    "    config_object['model_config']['backbone'] = backbone\n",
    "\n",
    "config_object['model_config']['classifiers']['n_class'] = num_classes\n",
    "config_object['model_config']['classifiers']['cls_type'] = 'MC'\n",
    "config_object['model_config']['classifiers']['in_chans'] = 1\n",
    "config_object['model_config']['classifiers']['img_size'] = img_size\n",
    "\n",
    "\n",
    "config_object['model_config']['classifiers']['pretrained_weights_path']  = davit_pretrained_weights_path  if \"DaVit\" in model_class else \"\"\n",
    "config_object['model_config']['classifiers']['pretrained'] = vit_pretrained_flag\n",
    "\n",
    "config_object['data']['train']['path'] = \"/home/ubuntu/OH/US_training_data/QC_data_jsons/train.json\"\n",
    "\n",
    "config_object['data']['valid']['path'] = \"/home/ubuntu/OH/US_training_data/QC_data_jsons/valid.json\"\n",
    "\n",
    "config_object['data']['train']['transform']['Resize']['new_size'] = img_size\n",
    "config_object['data']['valid']['transform']['Resize']['new_size'] = img_size\n",
    "config_object['data']['test']['transform']['Resize']['new_size'] = img_size\n",
    "\n",
    "\n",
    "config_object['data']['test']['path'] = \"/home/ubuntu/OH/US_training_data/QC_data_jsons/test.json\"\n",
    "\n",
    "config_object['logger_path'] = \"\"\n",
    "\n",
    "config_object['uid'] = experiment_name\n",
    "\n",
    "config_object['loss_function'] = loss_function_class\n",
    "\n",
    "config_object['init_ckpt'] = None\n",
    "\n",
    "\n",
    "\n",
    "\n",
    "\n",
    "\n",
    "\n",
    "\n",
    "\n",
    "\n",
    "\n",
    "\n",
    "\n",
    "\n",
    "\n"
   ]
  },
  {
   "cell_type": "code",
   "execution_count": 74,
   "metadata": {},
   "outputs": [],
   "source": [
    "import json\n",
    "with open(experiment_name + \".json\", 'w') as f:\n",
    "    json.dump(config_object, f)"
   ]
  }
 ],
 "metadata": {
  "kernelspec": {
   "display_name": "Python 3",
   "language": "python",
   "name": "python3"
  },
  "language_info": {
   "codemirror_mode": {
    "name": "ipython",
    "version": 3
   },
   "file_extension": ".py",
   "mimetype": "text/x-python",
   "name": "python",
   "nbconvert_exporter": "python",
   "pygments_lexer": "ipython3",
   "version": "3.8.10"
  }
 },
 "nbformat": 4,
 "nbformat_minor": 2
}
