{
 "cells": [
  {
   "cell_type": "code",
   "execution_count": 7,
   "metadata": {},
   "outputs": [],
   "source": [
    "model_architecture =\"resnet50\"\n",
    "data_ablation = \"100\"\n",
    "num_classes = 7\n",
    "image_size =\"224-288\"\n",
    "augmentation_list = \"set2\"\n",
    "loss_function = \"dwb\"\n",
    "custom_pretrained_weights_name = \"no\"\n",
    "backbone = \"resnet50\"\n",
    "img_size = [224,288]\n",
    "input_channel = 1\n",
    "\n",
    "vit_pretrained_flag = True\n",
    "\n",
    "davit_pretrained_weights_path = \"some_path\"\n",
    "\n",
    "model_class = \"OriginalClassificationModel\"\n",
    "\n",
    "loss_function_class = \"DynamicallyWeightedBalanceLoss\"\n",
    "\n",
    "extra_info= \"no_stop\"\n"
   ]
  },
  {
   "cell_type": "code",
   "execution_count": 8,
   "metadata": {},
   "outputs": [],
   "source": [
    "experiment_name = f'{model_architecture}_{data_ablation}_{str(num_classes)}-class_{image_size}_{augmentation_list}-aug_{loss_function}-loss_{custom_pretrained_weights_name}-weights_{extra_info}'"
   ]
  },
  {
   "cell_type": "code",
   "execution_count": 9,
   "metadata": {},
   "outputs": [
    {
     "name": "stdout",
     "output_type": "stream",
     "text": [
      "resnet50_100_7-class_224-288_set2-aug_dwb-loss_no-weights_no_stop\n"
     ]
    }
   ],
   "source": [
    "print(experiment_name)"
   ]
  },
  {
   "cell_type": "code",
   "execution_count": 10,
   "metadata": {},
   "outputs": [],
   "source": [
    "import json\n",
    " \n",
    "# Opening JSON file\n",
    "f = open('reference_config.json')\n",
    " \n",
    "# returns JSON object as \n",
    "# a dictionary\n",
    "config_object  = json.load(f)\n"
   ]
  },
  {
   "cell_type": "code",
   "execution_count": 11,
   "metadata": {},
   "outputs": [],
   "source": [
    "config_object['information']['project'] = 'diagnostic-view-classifier'\n",
    "config_object['information']['exp_name'] = experiment_name\n",
    "config_object['model_class'] = model_class\n",
    "if model_class == \"OriginalClassificationModel\":\n",
    "    config_object['model_config']['backbone'] = backbone\n",
    "\n",
    "config_object['model_config']['classifiers']['n_class'] = num_classes\n",
    "config_object['model_config']['classifiers']['cls_type'] = 'MC'\n",
    "config_object['model_config']['classifiers']['in_chans'] = 1\n",
    "config_object['model_config']['classifiers']['img_size'] = img_size\n",
    "\n",
    "\n",
    "config_object['model_config']['classifiers']['pretrained_weights_path']  = davit_pretrained_weights_path  if \"DaVit\" in model_class else \"\"\n",
    "config_object['model_config']['classifiers']['pretrained'] = vit_pretrained_flag\n",
    "\n",
    "config_object['data']['train']['path'] = \"datajsons/train.json\"\n",
    "\n",
    "config_object['data']['valid']['path'] = \"datajsons/valid.json\"\n",
    "\n",
    "config_object['data']['train']['transform']['Resize']['new_size'] = img_size\n",
    "config_object['data']['valid']['transform']['Resize']['new_size'] = img_size\n",
    "config_object['data']['test']['transform']['Resize']['new_size'] = img_size\n",
    "\n",
    "\n",
    "config_object['data']['test']['path'] = \"datajsons/test.json\"\n",
    "\n",
    "config_object['logger_path'] = \"\"\n",
    "\n",
    "config_object['uid'] = experiment_name\n",
    "\n",
    "config_object['loss_function'] = loss_function_class\n",
    "\n",
    "config_object['init_ckpt'] = None\n",
    "\n",
    "config_object['instance_name'] = \"sanskar_4\"\n",
    "\n",
    "\n",
    "\n",
    "\n",
    "\n",
    "\n",
    "\n",
    "\n",
    "\n",
    "\n",
    "\n",
    "\n",
    "\n",
    "\n",
    "\n"
   ]
  },
  {
   "cell_type": "code",
   "execution_count": 12,
   "metadata": {},
   "outputs": [],
   "source": [
    "import json\n",
    "with open(\"/home/ubuntu/OH/OH-Classifier-Framework-Basics/config/\"+experiment_name + \".json\", 'w') as f:\n",
    "    json.dump(config_object, f)"
   ]
  }
 ],
 "metadata": {
  "kernelspec": {
   "display_name": "Python 3",
   "language": "python",
   "name": "python3"
  },
  "language_info": {
   "codemirror_mode": {
    "name": "ipython",
    "version": 3
   },
   "file_extension": ".py",
   "mimetype": "text/x-python",
   "name": "python",
   "nbconvert_exporter": "python",
   "pygments_lexer": "ipython3",
   "version": "3.10.13"
  }
 },
 "nbformat": 4,
 "nbformat_minor": 2
}
