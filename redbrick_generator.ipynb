{
 "cells": [
  {
   "cell_type": "code",
   "execution_count": 9,
   "metadata": {},
   "outputs": [
    {
     "name": "stdout",
     "output_type": "stream",
     "text": [
      "220\n"
     ]
    }
   ],
   "source": [
    "import os\n",
    "all_files = []\n",
    "\n",
    "\n",
    "for root, dirs, files in os.walk(\"/home/ubuntu/OH/temp_stuff/Machine2_batch3\"):\n",
    "    file_paths = [os.path.join(root, file) for file in files]\n",
    "    all_files.extend(file_paths)\n",
    "    \n",
    "    \n",
    "print(len(all_files))    \n",
    "    "
   ]
  },
  {
   "cell_type": "code",
   "execution_count": 10,
   "metadata": {},
   "outputs": [
    {
     "name": "stdout",
     "output_type": "stream",
     "text": [
      "batch_3/ef91f7a94257466e9f314c6f91de3937_cropped.png\n"
     ]
    }
   ],
   "source": [
    "test_path = all_files[0]\n",
    "\n",
    "result = \"/\".join(test_path.split(\"/\")[-2:])\n",
    "print(result)"
   ]
  },
  {
   "cell_type": "code",
   "execution_count": 2,
   "metadata": {},
   "outputs": [
    {
     "data": {
      "text/plain": [
       "31"
      ]
     },
     "execution_count": 2,
     "metadata": {},
     "output_type": "execute_result"
    }
   ],
   "source": [
    "220 // 7"
   ]
  },
  {
   "cell_type": "code",
   "execution_count": 11,
   "metadata": {},
   "outputs": [
    {
     "name": "stdout",
     "output_type": "stream",
     "text": [
      "[{'name': 'series_batch3_1', 'series': [{'items': 'project_pixel_resolution/cropped_images_v2/machine_2/batch_3/ef91f7a94257466e9f314c6f91de3937_cropped.png'}, {'items': 'project_pixel_resolution/cropped_images_v2/machine_2/batch_3/ecfd0f0054144ecf8fe6ecb532aeec50_cropped.png'}, {'items': 'project_pixel_resolution/cropped_images_v2/machine_2/batch_3/edcb433c2b294d479e1e9453979ed41c_cropped.png'}, {'items': 'project_pixel_resolution/cropped_images_v2/machine_2/batch_3/ef53c2af6e8d42158287686cdb787a1e_cropped.png'}, {'items': 'project_pixel_resolution/cropped_images_v2/machine_2/batch_3/f10ab7dd3166497490c62d1fbd1ecb22_cropped.png'}, {'items': 'project_pixel_resolution/cropped_images_v2/machine_2/batch_3/f45db9aa06244fef942d1e94a924121c_cropped.png'}, {'items': 'project_pixel_resolution/cropped_images_v2/machine_2/batch_3/ed18817ed3c24a5391535843eb2e69b5_cropped.png'}, {'items': 'project_pixel_resolution/cropped_images_v2/machine_2/batch_3/f8b9edf0eef6450b9d696a42c8b70e33_cropped.png'}, {'items': 'project_pixel_resolution/cropped_images_v2/machine_2/batch_3/eed4da0d27994f3ca264f49aa2a31809_cropped.png'}, {'items': 'project_pixel_resolution/cropped_images_v2/machine_2/batch_3/ee4ad62b10e641b38d895712b996015e_cropped.png'}, {'items': 'project_pixel_resolution/cropped_images_v2/machine_2/batch_3/ed93b302471f452799dec354763cf5ca_cropped.png'}, {'items': 'project_pixel_resolution/cropped_images_v2/machine_2/batch_3/ed5248de7b354912991b974efbc73cd9_cropped.png'}, {'items': 'project_pixel_resolution/cropped_images_v2/machine_2/batch_3/f3adb3fbf59147278c16b24464085c94_cropped.png'}, {'items': 'project_pixel_resolution/cropped_images_v2/machine_2/batch_3/edcf91ee325748a5bd295013eb34efec_cropped.png'}, {'items': 'project_pixel_resolution/cropped_images_v2/machine_2/batch_3/f7e82e1b36a24c2687dc98c0c06f0531_cropped.png'}, {'items': 'project_pixel_resolution/cropped_images_v2/machine_2/batch_3/ed3a3cfc9b454916bc6ba68ee19ad0b8_cropped.png'}, {'items': 'project_pixel_resolution/cropped_images_v2/machine_2/batch_3/f73af95878014f6ea9cfd3f459ade5b7_cropped.png'}, {'items': 'project_pixel_resolution/cropped_images_v2/machine_2/batch_3/eef9c8d292c74180a72c8aa93858381c_cropped.png'}, {'items': 'project_pixel_resolution/cropped_images_v2/machine_2/batch_3/f6c008828f3849d7bfe8fcd6651f3bb7_cropped.png'}, {'items': 'project_pixel_resolution/cropped_images_v2/machine_2/batch_3/f61ac1feaba5401d9a6e1db1045ab6b4_cropped.png'}, {'items': 'project_pixel_resolution/cropped_images_v2/machine_2/batch_3/f8db3ab779b44eb5ac39c595f5374443_cropped.png'}, {'items': 'project_pixel_resolution/cropped_images_v2/machine_2/batch_3/ed561973dd56470b819d5486cd014543_cropped.png'}, {'items': 'project_pixel_resolution/cropped_images_v2/machine_2/batch_3/ed40f6e7c0784f9b9f5f138999fd071a_cropped.png'}, {'items': 'project_pixel_resolution/cropped_images_v2/machine_2/batch_3/f0acdf659cf2440d996fb6428421dfe5_cropped.png'}, {'items': 'project_pixel_resolution/cropped_images_v2/machine_2/batch_3/ef4a4bb55fec46189f800b4104160b26_cropped.png'}, {'items': 'project_pixel_resolution/cropped_images_v2/machine_2/batch_3/f9d32f466b0047e388862cd6e93e2773_cropped.png'}, {'items': 'project_pixel_resolution/cropped_images_v2/machine_2/batch_3/efefcea8951c4ca0a634b4b23ae1bf4b_cropped.png'}, {'items': 'project_pixel_resolution/cropped_images_v2/machine_2/batch_3/ed541dbe204147c9a9c1732264d36504_cropped.png'}, {'items': 'project_pixel_resolution/cropped_images_v2/machine_2/batch_3/f8a97bf032c9466db299e7b157cec2f2_cropped.png'}, {'items': 'project_pixel_resolution/cropped_images_v2/machine_2/batch_3/ef220865c57a4f47ba7a5b38f16d74af_cropped.png'}, {'items': 'project_pixel_resolution/cropped_images_v2/machine_2/batch_3/f419a2dd77a44cae9efcf368d68bb019_cropped.png'}]}, {'name': 'series_batch3_2', 'series': [{'items': 'project_pixel_resolution/cropped_images_v2/machine_2/batch_3/ed875c642aeb49cbba1db684e9dc2817_cropped.png'}, {'items': 'project_pixel_resolution/cropped_images_v2/machine_2/batch_3/f33caacc5f974f4f8be9f848eb463560_cropped.png'}, {'items': 'project_pixel_resolution/cropped_images_v2/machine_2/batch_3/edbf7fe361034bb2b64a9233c2b28376_cropped.png'}, {'items': 'project_pixel_resolution/cropped_images_v2/machine_2/batch_3/ed6d206cf24c4a8ba926b6315af36e8a_cropped.png'}, {'items': 'project_pixel_resolution/cropped_images_v2/machine_2/batch_3/f7a1967ec6d74333be034c2af3c44662_cropped.png'}, {'items': 'project_pixel_resolution/cropped_images_v2/machine_2/batch_3/f6dab529c2c0466c80440ee1cc25aa29_cropped.png'}, {'items': 'project_pixel_resolution/cropped_images_v2/machine_2/batch_3/eee2ee578c9349a7b881230c6186cc7e_cropped.png'}, {'items': 'project_pixel_resolution/cropped_images_v2/machine_2/batch_3/f4b480431e274a138a5e856908e40470_cropped.png'}, {'items': 'project_pixel_resolution/cropped_images_v2/machine_2/batch_3/f4c441f76e6f4496aeb596761f842ceb_cropped.png'}, {'items': 'project_pixel_resolution/cropped_images_v2/machine_2/batch_3/ee0951ba2a874e3c84ffd89d2078f694_cropped.png'}, {'items': 'project_pixel_resolution/cropped_images_v2/machine_2/batch_3/f6d6c102f5c94b65847565982f33715f_cropped.png'}, {'items': 'project_pixel_resolution/cropped_images_v2/machine_2/batch_3/ee8d8ec17fba4b46b3a3be37b20a8eb7_cropped.png'}, {'items': 'project_pixel_resolution/cropped_images_v2/machine_2/batch_3/f87a1414d2644f90833dccb5f802cedd_cropped.png'}, {'items': 'project_pixel_resolution/cropped_images_v2/machine_2/batch_3/f900dbc398b54880b420f0a0050da0bc_cropped.png'}, {'items': 'project_pixel_resolution/cropped_images_v2/machine_2/batch_3/edbaa44c684b449fb22e6c5bf5cfeb51_cropped.png'}, {'items': 'project_pixel_resolution/cropped_images_v2/machine_2/batch_3/f1d45e727a02423cbb878e018ae57b52_cropped.png'}, {'items': 'project_pixel_resolution/cropped_images_v2/machine_2/batch_3/f7adc51ccf964d21aa742c0f3cc10c07_cropped.png'}, {'items': 'project_pixel_resolution/cropped_images_v2/machine_2/batch_3/f4e91e6cdba549ca8f4128d21b1afaf2_cropped.png'}, {'items': 'project_pixel_resolution/cropped_images_v2/machine_2/batch_3/ef66a323b93c4a72afc3343b89204aec_cropped.png'}, {'items': 'project_pixel_resolution/cropped_images_v2/machine_2/batch_3/f540f3bff4704f8f93c3aece77b9808a_cropped.png'}, {'items': 'project_pixel_resolution/cropped_images_v2/machine_2/batch_3/f269e880afa141959b87c9e1481fcd10_cropped.png'}, {'items': 'project_pixel_resolution/cropped_images_v2/machine_2/batch_3/f0c854135ffa4bc5ac934c5e6c30a1e3_cropped.png'}, {'items': 'project_pixel_resolution/cropped_images_v2/machine_2/batch_3/f4d88d31c3424ca7ba17136f28447916_cropped.png'}, {'items': 'project_pixel_resolution/cropped_images_v2/machine_2/batch_3/f9e75acaa017488da632bbf8beed4e6d_cropped.png'}, {'items': 'project_pixel_resolution/cropped_images_v2/machine_2/batch_3/f43baf2d8e4048d5a71e9bdffac547c3_cropped.png'}, {'items': 'project_pixel_resolution/cropped_images_v2/machine_2/batch_3/eeaf3162742d4f5c984d8341777a76b0_cropped.png'}, {'items': 'project_pixel_resolution/cropped_images_v2/machine_2/batch_3/f0a44aabe8b4468e9fffd420e19f830a_cropped.png'}, {'items': 'project_pixel_resolution/cropped_images_v2/machine_2/batch_3/f0f0b28765cf44f9b4aeafb5e76c0a5e_cropped.png'}, {'items': 'project_pixel_resolution/cropped_images_v2/machine_2/batch_3/f8bc4aa815d849f5803f7f99cda83bea_cropped.png'}, {'items': 'project_pixel_resolution/cropped_images_v2/machine_2/batch_3/f50d5f11b48d4a7a924b15f61aef446a_cropped.png'}, {'items': 'project_pixel_resolution/cropped_images_v2/machine_2/batch_3/f34c8d05086d4eae942153e48c8e5b0b_cropped.png'}]}, {'name': 'series_batch3_3', 'series': [{'items': 'project_pixel_resolution/cropped_images_v2/machine_2/batch_3/edcdfac04f1948d987a9b5db063eb5c3_cropped.png'}, {'items': 'project_pixel_resolution/cropped_images_v2/machine_2/batch_3/f9be12bba3604b3d9afb56c1c4bb991e_cropped.png'}, {'items': 'project_pixel_resolution/cropped_images_v2/machine_2/batch_3/ed198f61444b41b7a934960353b6e0ef_cropped.png'}, {'items': 'project_pixel_resolution/cropped_images_v2/machine_2/batch_3/eeabe5aaea5e4c3ea984a05d0751b10e_cropped.png'}, {'items': 'project_pixel_resolution/cropped_images_v2/machine_2/batch_3/f10a2d3fd76345f9a50e92cf7a5a38e2_cropped.png'}, {'items': 'project_pixel_resolution/cropped_images_v2/machine_2/batch_3/ee9d26b2591d4a699f27c359de457460_cropped.png'}, {'items': 'project_pixel_resolution/cropped_images_v2/machine_2/batch_3/ed238afe04a542ffbc02b07a3fd494a3_cropped.png'}, {'items': 'project_pixel_resolution/cropped_images_v2/machine_2/batch_3/f6a39c2088f94487b6ec18494293ef11_cropped.png'}, {'items': 'project_pixel_resolution/cropped_images_v2/machine_2/batch_3/efde167be63c4b8fb0a9fdb43fd08fe9_cropped.png'}, {'items': 'project_pixel_resolution/cropped_images_v2/machine_2/batch_3/f72a0a9dcd544aa7ac848e115ca06a62_cropped.png'}, {'items': 'project_pixel_resolution/cropped_images_v2/machine_2/batch_3/f9fb5fe7e139410ba39d759c6459bcfb_cropped.png'}, {'items': 'project_pixel_resolution/cropped_images_v2/machine_2/batch_3/f179d60cfdac4fd4a484595458b42288_cropped.png'}, {'items': 'project_pixel_resolution/cropped_images_v2/machine_2/batch_3/f90d9ec0e1a04106b6081b46485175ba_cropped.png'}, {'items': 'project_pixel_resolution/cropped_images_v2/machine_2/batch_3/f5ea83437a5f41e199f240fc38996123_cropped.png'}, {'items': 'project_pixel_resolution/cropped_images_v2/machine_2/batch_3/f11e2a8dc5984f88a8c32b652e928b5a_cropped.png'}, {'items': 'project_pixel_resolution/cropped_images_v2/machine_2/batch_3/f4e29787de704b8780ae1b077911004c_cropped.png'}, {'items': 'project_pixel_resolution/cropped_images_v2/machine_2/batch_3/f17d5154b2b7439db8c4830aedaf04a0_cropped.png'}, {'items': 'project_pixel_resolution/cropped_images_v2/machine_2/batch_3/f5bf8542d83b4d6eb5bdf3b8e64cce2f_cropped.png'}, {'items': 'project_pixel_resolution/cropped_images_v2/machine_2/batch_3/f58bd10e65ab42939277079851d7063f_cropped.png'}, {'items': 'project_pixel_resolution/cropped_images_v2/machine_2/batch_3/ee691b6099c543e8a232065d2a88ec01_cropped.png'}, {'items': 'project_pixel_resolution/cropped_images_v2/machine_2/batch_3/f3a8c40d67344846a42e2b734e8bdeff_cropped.png'}, {'items': 'project_pixel_resolution/cropped_images_v2/machine_2/batch_3/ef280852639342cdb5676bbd553ad433_cropped.png'}, {'items': 'project_pixel_resolution/cropped_images_v2/machine_2/batch_3/f93ccdfe736f49229eb58994ae61a782_cropped.png'}, {'items': 'project_pixel_resolution/cropped_images_v2/machine_2/batch_3/f49e407d58364425b5dc095fb0724094_cropped.png'}, {'items': 'project_pixel_resolution/cropped_images_v2/machine_2/batch_3/f8c16f59b0fb420385264f913f9dd29d_cropped.png'}, {'items': 'project_pixel_resolution/cropped_images_v2/machine_2/batch_3/ef8da48a1f294be0864c821e6b934dfb_cropped.png'}, {'items': 'project_pixel_resolution/cropped_images_v2/machine_2/batch_3/eec6b4832cec405595a6764d8e1d5e9d_cropped.png'}, {'items': 'project_pixel_resolution/cropped_images_v2/machine_2/batch_3/eeac2a23b98d4e6db708495550c09b80_cropped.png'}, {'items': 'project_pixel_resolution/cropped_images_v2/machine_2/batch_3/ecf1f22220c24cc8b7b9a7b76237b2ae_cropped.png'}, {'items': 'project_pixel_resolution/cropped_images_v2/machine_2/batch_3/f139b9daf3cd4d72a486e9e53d8850c5_cropped.png'}, {'items': 'project_pixel_resolution/cropped_images_v2/machine_2/batch_3/f7b7528fdccf4aed8ed5899286b7a08c_cropped.png'}]}, {'name': 'series_batch3_4', 'series': [{'items': 'project_pixel_resolution/cropped_images_v2/machine_2/batch_3/f0d4579507cc4531965fdefb569fc972_cropped.png'}, {'items': 'project_pixel_resolution/cropped_images_v2/machine_2/batch_3/f26c4b7b4c1f49dd97b6f4f6f3b91efe_cropped.png'}, {'items': 'project_pixel_resolution/cropped_images_v2/machine_2/batch_3/f8ae03eab1b24f48abb29f66d8e00ff7_cropped.png'}, {'items': 'project_pixel_resolution/cropped_images_v2/machine_2/batch_3/f8e9c2c27803456f9c3ad272604e3d20_cropped.png'}, {'items': 'project_pixel_resolution/cropped_images_v2/machine_2/batch_3/f0dcfc55975b495ca49ec5813e59df85_cropped.png'}, {'items': 'project_pixel_resolution/cropped_images_v2/machine_2/batch_3/f17da30d860040a79b2eb093e3bff6d4_cropped.png'}, {'items': 'project_pixel_resolution/cropped_images_v2/machine_2/batch_3/ed6318414e4746c3bf273a491b78db16_cropped.png'}, {'items': 'project_pixel_resolution/cropped_images_v2/machine_2/batch_3/f98d561a21944eaa98aafa9ca76394e8_cropped.png'}, {'items': 'project_pixel_resolution/cropped_images_v2/machine_2/batch_3/f7c43cfcc780426ebf7648b822bdc6f1_cropped.png'}, {'items': 'project_pixel_resolution/cropped_images_v2/machine_2/batch_3/f8b292e25650461bb8fcde7a460ae4bf_cropped.png'}, {'items': 'project_pixel_resolution/cropped_images_v2/machine_2/batch_3/f49aee3e61b847629b925312938df5bb_cropped.png'}, {'items': 'project_pixel_resolution/cropped_images_v2/machine_2/batch_3/f544e7c27569425d857d07c63b5bffa5_cropped.png'}, {'items': 'project_pixel_resolution/cropped_images_v2/machine_2/batch_3/f506d14e8716415e9e8a1ea28a677597_cropped.png'}, {'items': 'project_pixel_resolution/cropped_images_v2/machine_2/batch_3/f1b8d5cb99864e879263de6bdfd3952e_cropped.png'}, {'items': 'project_pixel_resolution/cropped_images_v2/machine_2/batch_3/f3ffaddb450f47c4b949dc93c9ca266a_cropped.png'}, {'items': 'project_pixel_resolution/cropped_images_v2/machine_2/batch_3/f7b9e07f9a2e4cda9341f31f80cf0058_cropped.png'}, {'items': 'project_pixel_resolution/cropped_images_v2/machine_2/batch_3/f41e29a3e7a243aea8ba548245713ed7_cropped.png'}, {'items': 'project_pixel_resolution/cropped_images_v2/machine_2/batch_3/f44c9be1fcfc4cb78baa82cbdbbe9e62_cropped.png'}, {'items': 'project_pixel_resolution/cropped_images_v2/machine_2/batch_3/f74e7c53547147daac2fd16d9bc5b765_cropped.png'}, {'items': 'project_pixel_resolution/cropped_images_v2/machine_2/batch_3/ef353dbae8984512b58985bc5ba9267e_cropped.png'}, {'items': 'project_pixel_resolution/cropped_images_v2/machine_2/batch_3/f5fc914b0cd24ba8a7d4a2a19191d105_cropped.png'}, {'items': 'project_pixel_resolution/cropped_images_v2/machine_2/batch_3/ef1454c460fe47a8b35bfeca95684eda_cropped.png'}, {'items': 'project_pixel_resolution/cropped_images_v2/machine_2/batch_3/f36d9039961f46dfa33177fb12c4f49e_cropped.png'}, {'items': 'project_pixel_resolution/cropped_images_v2/machine_2/batch_3/f0193fd00f244dc88d3cb73baa246d72_cropped.png'}, {'items': 'project_pixel_resolution/cropped_images_v2/machine_2/batch_3/ef079ba508df4a01878f8c410da144df_cropped.png'}, {'items': 'project_pixel_resolution/cropped_images_v2/machine_2/batch_3/f4d6964352384b97ba8e70a867bfe993_cropped.png'}, {'items': 'project_pixel_resolution/cropped_images_v2/machine_2/batch_3/ecfc16095b2346c08716fd25c7cddb3a_cropped.png'}, {'items': 'project_pixel_resolution/cropped_images_v2/machine_2/batch_3/efc3f6964e804b819ccba3d7a9aa85cb_cropped.png'}, {'items': 'project_pixel_resolution/cropped_images_v2/machine_2/batch_3/f806b48d48914d97a050b3e88cc47d71_cropped.png'}, {'items': 'project_pixel_resolution/cropped_images_v2/machine_2/batch_3/f5b69100212d431988b7385edb32ab38_cropped.png'}, {'items': 'project_pixel_resolution/cropped_images_v2/machine_2/batch_3/f4af32c8b565415f84c48d9215e9edf0_cropped.png'}]}, {'name': 'series_batch3_5', 'series': [{'items': 'project_pixel_resolution/cropped_images_v2/machine_2/batch_3/ef511148b37e4dbaaa23fdc457c71fd9_cropped.png'}, {'items': 'project_pixel_resolution/cropped_images_v2/machine_2/batch_3/f2f08c07b1164d4484f54250f7bcf2de_cropped.png'}, {'items': 'project_pixel_resolution/cropped_images_v2/machine_2/batch_3/f252e65f1ae0424ab94ae3590b48d141_cropped.png'}, {'items': 'project_pixel_resolution/cropped_images_v2/machine_2/batch_3/ef722b4dd94e4753b08d0d3598b18422_cropped.png'}, {'items': 'project_pixel_resolution/cropped_images_v2/machine_2/batch_3/ef5e2372ad8a48baa1d3d12491cb0d42_cropped.png'}, {'items': 'project_pixel_resolution/cropped_images_v2/machine_2/batch_3/f347a9de96fd472b8ee29142a748f981_cropped.png'}, {'items': 'project_pixel_resolution/cropped_images_v2/machine_2/batch_3/f8f9b8b9f82f4a4a90faa480bdd7fbea_cropped.png'}, {'items': 'project_pixel_resolution/cropped_images_v2/machine_2/batch_3/ee625c4e179f48b69a42a75a72e00bc1_cropped.png'}, {'items': 'project_pixel_resolution/cropped_images_v2/machine_2/batch_3/f0d8aa654b07496b8997c15a5be3f777_cropped.png'}, {'items': 'project_pixel_resolution/cropped_images_v2/machine_2/batch_3/f3a5d71e22a242cd96c4ab9c33ad68ab_cropped.png'}, {'items': 'project_pixel_resolution/cropped_images_v2/machine_2/batch_3/ed7792ddd01d4551b633e3c2b62bf441_cropped.png'}, {'items': 'project_pixel_resolution/cropped_images_v2/machine_2/batch_3/f3e36258959d43c1897940ef119d7b41_cropped.png'}, {'items': 'project_pixel_resolution/cropped_images_v2/machine_2/batch_3/f90aa45bbdfd4a71b50af8661d0cc398_cropped.png'}, {'items': 'project_pixel_resolution/cropped_images_v2/machine_2/batch_3/ef8417bdca834fc6afecf1e8b7f2dabb_cropped.png'}, {'items': 'project_pixel_resolution/cropped_images_v2/machine_2/batch_3/f5c3a4ac16a545a0b1d206f0c100adfc_cropped.png'}, {'items': 'project_pixel_resolution/cropped_images_v2/machine_2/batch_3/f787f185206f4c6dad6c5aa7ec96d92f_cropped.png'}, {'items': 'project_pixel_resolution/cropped_images_v2/machine_2/batch_3/eebaec80250a419598d14f32ed3bddfc_cropped.png'}, {'items': 'project_pixel_resolution/cropped_images_v2/machine_2/batch_3/f440d523d44643abb5ebaec52c92cd71_cropped.png'}, {'items': 'project_pixel_resolution/cropped_images_v2/machine_2/batch_3/f053a6a4afd943adb6300207bcb63c95_cropped.png'}, {'items': 'project_pixel_resolution/cropped_images_v2/machine_2/batch_3/f0b6d66f922345c2bc6ecd4341708221_cropped.png'}, {'items': 'project_pixel_resolution/cropped_images_v2/machine_2/batch_3/eda17a309dd64a93b27a9b02d5e37e28_cropped.png'}, {'items': 'project_pixel_resolution/cropped_images_v2/machine_2/batch_3/eee188117b234ad0a8e5b130e7452a46_cropped.png'}, {'items': 'project_pixel_resolution/cropped_images_v2/machine_2/batch_3/f06da494043847dcaa6579459ff7e586_cropped.png'}, {'items': 'project_pixel_resolution/cropped_images_v2/machine_2/batch_3/f1ab832045144f5aba5cfbdb8849e2c4_cropped.png'}, {'items': 'project_pixel_resolution/cropped_images_v2/machine_2/batch_3/f148da7ad42844a596d8666cc2a54309_cropped.png'}, {'items': 'project_pixel_resolution/cropped_images_v2/machine_2/batch_3/f2d5234181a94639957200ec5c78842f_cropped.png'}, {'items': 'project_pixel_resolution/cropped_images_v2/machine_2/batch_3/f24a4173d7934caea694fb57622a77ea_cropped.png'}, {'items': 'project_pixel_resolution/cropped_images_v2/machine_2/batch_3/ed5629ccb5334e1dbd861552b1e9ce95_cropped.png'}, {'items': 'project_pixel_resolution/cropped_images_v2/machine_2/batch_3/ed0159e01e2b4505a0057996e16a98b8_cropped.png'}, {'items': 'project_pixel_resolution/cropped_images_v2/machine_2/batch_3/f42c3a78be584a7fb0d4adf07c2c9d29_cropped.png'}, {'items': 'project_pixel_resolution/cropped_images_v2/machine_2/batch_3/f09c8aef35bf4397981ecaa29d6be551_cropped.png'}]}, {'name': 'series_batch3_6', 'series': [{'items': 'project_pixel_resolution/cropped_images_v2/machine_2/batch_3/f304dacb1620438697800a5c0eca75ad_cropped.png'}, {'items': 'project_pixel_resolution/cropped_images_v2/machine_2/batch_3/f4e3f3e608414d259c60f1688fe20ece_cropped.png'}, {'items': 'project_pixel_resolution/cropped_images_v2/machine_2/batch_3/f51c6ab725c84f4ebc7c393bc210a5ae_cropped.png'}, {'items': 'project_pixel_resolution/cropped_images_v2/machine_2/batch_3/ee49a35e2c41468bb1784c3fc7a6c3bf_cropped.png'}, {'items': 'project_pixel_resolution/cropped_images_v2/machine_2/batch_3/f06e79ffa4f5447fb95c91bc613792d3_cropped.png'}, {'items': 'project_pixel_resolution/cropped_images_v2/machine_2/batch_3/f7fa925551b0484eb8c0cc534a3a641c_cropped.png'}, {'items': 'project_pixel_resolution/cropped_images_v2/machine_2/batch_3/efb26050a8804145a655412beaa105f3_cropped.png'}, {'items': 'project_pixel_resolution/cropped_images_v2/machine_2/batch_3/ee9f7974e3584c3b8037f68a874ce215_cropped.png'}, {'items': 'project_pixel_resolution/cropped_images_v2/machine_2/batch_3/edb4c858b73241daaa468eb26a033186_cropped.png'}, {'items': 'project_pixel_resolution/cropped_images_v2/machine_2/batch_3/ef9b3b5265284d798617453d6b702d85_cropped.png'}, {'items': 'project_pixel_resolution/cropped_images_v2/machine_2/batch_3/f0219f69221d4ef08ec1cf778167a196_cropped.png'}, {'items': 'project_pixel_resolution/cropped_images_v2/machine_2/batch_3/f00d81465b22426082510f6bef634a53_cropped.png'}, {'items': 'project_pixel_resolution/cropped_images_v2/machine_2/batch_3/f4ec13250c3a4e99a8348008c8b6b5b5_cropped.png'}, {'items': 'project_pixel_resolution/cropped_images_v2/machine_2/batch_3/f7ff8f828bec4445ba7b0aeb049d258b_cropped.png'}, {'items': 'project_pixel_resolution/cropped_images_v2/machine_2/batch_3/f871e804c74b45b882644edea5aa4574_cropped.png'}, {'items': 'project_pixel_resolution/cropped_images_v2/machine_2/batch_3/f094cfc8e00a4553bae19f0bd61172bb_cropped.png'}, {'items': 'project_pixel_resolution/cropped_images_v2/machine_2/batch_3/edc72db26a284b2192527d442d11333c_cropped.png'}, {'items': 'project_pixel_resolution/cropped_images_v2/machine_2/batch_3/f0fcabdfaa7e46398990bf39afbd7fdd_cropped.png'}, {'items': 'project_pixel_resolution/cropped_images_v2/machine_2/batch_3/eead28b7c9e74ff29ac469f43f598fb9_cropped.png'}, {'items': 'project_pixel_resolution/cropped_images_v2/machine_2/batch_3/f85b3e744e5e430897f47d80abc3bc40_cropped.png'}, {'items': 'project_pixel_resolution/cropped_images_v2/machine_2/batch_3/ed5462c75b95470c9d0872ca8ace188e_cropped.png'}, {'items': 'project_pixel_resolution/cropped_images_v2/machine_2/batch_3/ef61a8e17dd6459a87443ca285edafab_cropped.png'}, {'items': 'project_pixel_resolution/cropped_images_v2/machine_2/batch_3/f4cbf7dc57f0409f8418568b06e44a88_cropped.png'}, {'items': 'project_pixel_resolution/cropped_images_v2/machine_2/batch_3/f5da903041354c129035eb784deb4c96_cropped.png'}, {'items': 'project_pixel_resolution/cropped_images_v2/machine_2/batch_3/eccad8b1eb9f4c92b0428d9271f7f55b_cropped.png'}, {'items': 'project_pixel_resolution/cropped_images_v2/machine_2/batch_3/f05abf352ff9430e926e034b72d9ad1c_cropped.png'}, {'items': 'project_pixel_resolution/cropped_images_v2/machine_2/batch_3/f8b55b8df1714253bfac116bdbae33cb_cropped.png'}, {'items': 'project_pixel_resolution/cropped_images_v2/machine_2/batch_3/f38d696b32824af684931239fbdb5fa1_cropped.png'}, {'items': 'project_pixel_resolution/cropped_images_v2/machine_2/batch_3/f07d6ebaa8ab472c929921f65af837b6_cropped.png'}, {'items': 'project_pixel_resolution/cropped_images_v2/machine_2/batch_3/f2f15a34fc024dc7b7c9d9a36f8c29f7_cropped.png'}, {'items': 'project_pixel_resolution/cropped_images_v2/machine_2/batch_3/f645d06a4e104cdcb59ce41f1035fe27_cropped.png'}]}, {'name': 'series_batch3_7', 'series': [{'items': 'project_pixel_resolution/cropped_images_v2/machine_2/batch_3/ef4fa0ec671443b6939a9fc0a19c1e83_cropped.png'}, {'items': 'project_pixel_resolution/cropped_images_v2/machine_2/batch_3/f5c4c77a41084288b412ed867fb2b070_cropped.png'}, {'items': 'project_pixel_resolution/cropped_images_v2/machine_2/batch_3/ee9a463f500b400fb38c791bf00aa3b7_cropped.png'}, {'items': 'project_pixel_resolution/cropped_images_v2/machine_2/batch_3/ef4b5960dd9b45f593fb7e53a26d65e1_cropped.png'}, {'items': 'project_pixel_resolution/cropped_images_v2/machine_2/batch_3/f5d710a26ca24e38a4d19c5d38069eff_cropped.png'}, {'items': 'project_pixel_resolution/cropped_images_v2/machine_2/batch_3/f81de7aeb19147669b85b250e5ff7e5d_cropped.png'}, {'items': 'project_pixel_resolution/cropped_images_v2/machine_2/batch_3/f14c9deddd83453598f1fe7c52f434cb_cropped.png'}, {'items': 'project_pixel_resolution/cropped_images_v2/machine_2/batch_3/f63a9042ff09476fa1de681dc46d6364_cropped.png'}, {'items': 'project_pixel_resolution/cropped_images_v2/machine_2/batch_3/f7b2744191fb4a458e960c7f9ee2611f_cropped.png'}, {'items': 'project_pixel_resolution/cropped_images_v2/machine_2/batch_3/f51dab6fa2f9431cac9848422bb081c5_cropped.png'}, {'items': 'project_pixel_resolution/cropped_images_v2/machine_2/batch_3/ee0973dc3a5f49acaf4fa547ac7a80db_cropped.png'}, {'items': 'project_pixel_resolution/cropped_images_v2/machine_2/batch_3/edd1e4e805874e12a230138feeef8904_cropped.png'}, {'items': 'project_pixel_resolution/cropped_images_v2/machine_2/batch_3/f679aa6858024097af3153c1d439f61e_cropped.png'}, {'items': 'project_pixel_resolution/cropped_images_v2/machine_2/batch_3/f40af9095be4479c9c7cdf0f0235c1d8_cropped.png'}, {'items': 'project_pixel_resolution/cropped_images_v2/machine_2/batch_3/edefbf2837c649c6a28d4154f837cabb_cropped.png'}, {'items': 'project_pixel_resolution/cropped_images_v2/machine_2/batch_3/f2b56bd759c248ee8245e6398d6155f6_cropped.png'}, {'items': 'project_pixel_resolution/cropped_images_v2/machine_2/batch_3/ee62b5655d5c451dafa4867c7a5845f9_cropped.png'}, {'items': 'project_pixel_resolution/cropped_images_v2/machine_2/batch_3/f1c5af25d3a047fe896cdb889d9882a6_cropped.png'}, {'items': 'project_pixel_resolution/cropped_images_v2/machine_2/batch_3/f8e0a45d1ca5477da5c160e991a0f094_cropped.png'}, {'items': 'project_pixel_resolution/cropped_images_v2/machine_2/batch_3/f0295e522b9f4ca2b93caed4c1bc5ade_cropped.png'}, {'items': 'project_pixel_resolution/cropped_images_v2/machine_2/batch_3/efd9eb9de0f94f3792edd32f65d7f736_cropped.png'}, {'items': 'project_pixel_resolution/cropped_images_v2/machine_2/batch_3/f580f6b9499642818467ffd73e03daed_cropped.png'}, {'items': 'project_pixel_resolution/cropped_images_v2/machine_2/batch_3/f1defe498b7148ecb37d572a4789d8a6_cropped.png'}, {'items': 'project_pixel_resolution/cropped_images_v2/machine_2/batch_3/ee65963e778b4733bacf222680fa86d5_cropped.png'}, {'items': 'project_pixel_resolution/cropped_images_v2/machine_2/batch_3/f2d174e9a5a844b5a2ef29bccd1649be_cropped.png'}, {'items': 'project_pixel_resolution/cropped_images_v2/machine_2/batch_3/edc19a3f3b06495eac7b662f9893a8d3_cropped.png'}, {'items': 'project_pixel_resolution/cropped_images_v2/machine_2/batch_3/f13aac99c80b4caf9caac9d84aae5c46_cropped.png'}, {'items': 'project_pixel_resolution/cropped_images_v2/machine_2/batch_3/f214a6ec04014bfa8930d84023c2ee40_cropped.png'}, {'items': 'project_pixel_resolution/cropped_images_v2/machine_2/batch_3/f5b10bd46bcb4c88b25fff4698d720bf_cropped.png'}, {'items': 'project_pixel_resolution/cropped_images_v2/machine_2/batch_3/eebaee8e99fd4807b7d3eb884c7ab248_cropped.png'}, {'items': 'project_pixel_resolution/cropped_images_v2/machine_2/batch_3/f2cfd88f71504d2cab52714edcd635f8_cropped.png'}, {'items': 'project_pixel_resolution/cropped_images_v2/machine_2/batch_3/ee2b846fc6374e32a795833dba24f456_cropped.png'}, {'items': 'project_pixel_resolution/cropped_images_v2/machine_2/batch_3/f5d086a12c8c4b259c8624416c16a964_cropped.png'}, {'items': 'project_pixel_resolution/cropped_images_v2/machine_2/batch_3/efe38fa48bb0499e8158d749cfdf393a_cropped.png'}]}]\n"
     ]
    }
   ],
   "source": [
    "obj_list = []\n",
    "\n",
    "jump = len(all_files)%7\n",
    "\n",
    "for i in range(0,7):\n",
    "    first_level_obj = {}\n",
    "    first_level_obj['name'] = f'series_batch3_{i+1}'\n",
    "    first_level_obj['series'] = []\n",
    "    \n",
    "    start = 31*i\n",
    "    \n",
    "    \n",
    "    if i==6:\n",
    "        stop = len(all_files)\n",
    "    else:\n",
    "        stop = start+31  \n",
    "    \n",
    "    for initial_file in all_files[start : stop]:\n",
    "        second_level_obj = {}\n",
    "        second_level_obj[\"items\"]= \"project_pixel_resolution/cropped_images_v2/machine_2/\" + \"/\".join(initial_file.split(\"/\")[-2:])\n",
    "        \n",
    "        first_level_obj['series'].append(second_level_obj)\n",
    "        \n",
    "        \n",
    "    obj_list.append(first_level_obj)   \n",
    "        \n",
    "        \n",
    "print(obj_list)\n",
    "        \n",
    "        \n",
    "        \n",
    "    \n",
    "    \n"
   ]
  },
  {
   "cell_type": "code",
   "execution_count": 12,
   "metadata": {},
   "outputs": [],
   "source": [
    "import json\n",
    "with open('redbrick_machine_2_batch_3.json', 'w') as f:\n",
    "    json.dump(obj_list, f)"
   ]
  }
 ],
 "metadata": {
  "kernelspec": {
   "display_name": "Python 3",
   "language": "python",
   "name": "python3"
  },
  "language_info": {
   "codemirror_mode": {
    "name": "ipython",
    "version": 3
   },
   "file_extension": ".py",
   "mimetype": "text/x-python",
   "name": "python",
   "nbconvert_exporter": "python",
   "pygments_lexer": "ipython3",
   "version": "3.8.10"
  }
 },
 "nbformat": 4,
 "nbformat_minor": 2
}
